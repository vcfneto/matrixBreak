{
 "metadata": {
  "language_info": {
   "codemirror_mode": {
    "name": "ipython",
    "version": 3
   },
   "file_extension": ".py",
   "mimetype": "text/x-python",
   "name": "python",
   "nbconvert_exporter": "python",
   "pygments_lexer": "ipython3",
   "version": "3.7.1-final"
  },
  "orig_nbformat": 2,
  "kernelspec": {
   "name": "python3",
   "display_name": "Python 3"
  }
 },
 "nbformat": 4,
 "nbformat_minor": 2,
 "cells": [
  {
   "cell_type": "code",
   "execution_count": 1,
   "metadata": {},
   "outputs": [],
   "source": [
    "from matrixBreak import *\n",
    "import numpy as np"
   ]
  },
  {
   "source": [
    "<h3>Aplicando o Algoritmo</h3>\n"
   ],
   "cell_type": "markdown",
   "metadata": {}
  },
  {
   "cell_type": "code",
   "execution_count": 2,
   "metadata": {},
   "outputs": [
    {
     "output_type": "execute_result",
     "data": {
      "text/plain": [
       "array([[1, 1],\n",
       "       [0, 0]])"
      ]
     },
     "metadata": {},
     "execution_count": 2
    }
   ],
   "source": [
    "np.random.seed(1)\n",
    "\n",
    "size = 2\n",
    "matrixTest = np.random.randint(2,size=(size,size))\n",
    "matrixTest"
   ]
  },
  {
   "cell_type": "code",
   "execution_count": 3,
   "metadata": {},
   "outputs": [
    {
     "output_type": "stream",
     "name": "stdout",
     "text": [
      "[array([[1]]), array([[0]])] 0.5\n"
     ]
    }
   ],
   "source": [
    "# Algoritmo Otimizado\n",
    "bestGE,bestALT = matrixBreak([matrixTest],matrixTest)\n",
    "\n",
    "print(bestALT,bestGE)"
   ]
  },
  {
   "cell_type": "code",
   "execution_count": 4,
   "metadata": {},
   "outputs": [
    {
     "output_type": "stream",
     "name": "stdout",
     "text": [
      "[array([[1]]), array([[0]])] 0.5\n"
     ]
    }
   ],
   "source": [
    "# Algoritmo não otimizado\n",
    "bestGE,bestALT = oldMatrixBreak([matrixTest],matrixTest)\n",
    "\n",
    "print(bestALT,bestGE)"
   ]
  },
  {
   "source": [
    "## Testes de Benchmark --- Não Rodar!! (demora bastante)"
   ],
   "cell_type": "markdown",
   "metadata": {}
  },
  {
   "cell_type": "code",
   "execution_count": 2,
   "metadata": {},
   "outputs": [],
   "source": [
    "newBenchmarkList = {\n",
    "    'old':{},\n",
    "    'new':{}\n",
    "}"
   ]
  },
  {
   "cell_type": "code",
   "execution_count": 7,
   "metadata": {},
   "outputs": [
    {
     "output_type": "stream",
     "name": "stdout",
     "text": [
      "0 nan\n",
      "1 nan\n",
      "2 0.0\n",
      "3 0.0\n",
      "4 0.0018400049209594726\n",
      "5 0.005469404921239736\n",
      "6 0.014499977231025696\n",
      "7 0.029061828340802873\n",
      "8 0.06791575749715169\n",
      "9 0.10791562497615814\n",
      "10 0.33373268769711867\n",
      "11 0.29907675665252065\n",
      "12 0.368801512616746\n",
      "13 0.5628960813794818\n",
      "14 0.6452097689851801\n",
      "15 1.4540379971874005\n",
      "16 1.215451866388321\n",
      "17 1.5458854410383436\n",
      "18 2.306246985991796\n",
      "19 2.956471790870031\n",
      "20 6.783069299191845\n",
      "21 4.496983980139096\n",
      "22 6.497712651077582\n",
      "23 6.555896748667178\n",
      "24 10.021140038967133\n",
      "25 10.405093152472313\n"
     ]
    },
    {
     "output_type": "error",
     "ename": "KeyboardInterrupt",
     "evalue": "",
     "traceback": [
      "\u001b[1;31m---------------------------------------------------------------------------\u001b[0m",
      "\u001b[1;31mKeyboardInterrupt\u001b[0m                         Traceback (most recent call last)",
      "\u001b[1;32m<ipython-input-7-ce84acd12f29>\u001b[0m in \u001b[0;36m<module>\u001b[1;34m\u001b[0m\n\u001b[0;32m     11\u001b[0m \u001b[1;33m\u001b[0m\u001b[0m\n\u001b[0;32m     12\u001b[0m         \u001b[0mstart\u001b[0m \u001b[1;33m=\u001b[0m \u001b[0mtime\u001b[0m\u001b[1;33m.\u001b[0m\u001b[0mtime\u001b[0m\u001b[1;33m(\u001b[0m\u001b[1;33m)\u001b[0m\u001b[1;33m\u001b[0m\u001b[1;33m\u001b[0m\u001b[0m\n\u001b[1;32m---> 13\u001b[1;33m         \u001b[0mmatrixBreak\u001b[0m\u001b[1;33m(\u001b[0m\u001b[1;33m[\u001b[0m\u001b[0mmatrixTest\u001b[0m\u001b[1;33m]\u001b[0m\u001b[1;33m,\u001b[0m\u001b[0mmatrixTest\u001b[0m\u001b[1;33m)\u001b[0m\u001b[1;33m\u001b[0m\u001b[1;33m\u001b[0m\u001b[0m\n\u001b[0m\u001b[0;32m     14\u001b[0m         \u001b[0mend\u001b[0m \u001b[1;33m=\u001b[0m \u001b[0mtime\u001b[0m\u001b[1;33m.\u001b[0m\u001b[0mtime\u001b[0m\u001b[1;33m(\u001b[0m\u001b[1;33m)\u001b[0m\u001b[1;33m\u001b[0m\u001b[1;33m\u001b[0m\u001b[0m\n\u001b[0;32m     15\u001b[0m \u001b[1;33m\u001b[0m\u001b[0m\n",
      "\u001b[1;32mc:\\Users\\vicenteneto\\matrixBreak\\matrixBreak.py\u001b[0m in \u001b[0;36mmatrixBreak\u001b[1;34m(temp_list, matrix, max_ge, best_alt, last_ge)\u001b[0m\n\u001b[0;32m     49\u001b[0m                     \u001b[0mmax_ge\u001b[0m\u001b[1;33m,\u001b[0m\u001b[0mbest_alt\u001b[0m \u001b[1;33m=\u001b[0m \u001b[0mge_alt\u001b[0m\u001b[1;33m,\u001b[0m\u001b[0maa\u001b[0m\u001b[1;33m\u001b[0m\u001b[1;33m\u001b[0m\u001b[0m\n\u001b[0;32m     50\u001b[0m                 \u001b[1;32mif\u001b[0m \u001b[0mge_alt\u001b[0m \u001b[1;33m>\u001b[0m \u001b[0mlast_ge\u001b[0m\u001b[1;33m:\u001b[0m\u001b[1;33m\u001b[0m\u001b[1;33m\u001b[0m\u001b[0m\n\u001b[1;32m---> 51\u001b[1;33m                     \u001b[0mmax_ge2\u001b[0m\u001b[1;33m,\u001b[0m\u001b[0maa2\u001b[0m \u001b[1;33m=\u001b[0m \u001b[0mmatrixBreak\u001b[0m\u001b[1;33m(\u001b[0m\u001b[0maa\u001b[0m\u001b[1;33m,\u001b[0m\u001b[0mmatrix\u001b[0m\u001b[1;33m,\u001b[0m\u001b[0mlast_ge\u001b[0m \u001b[1;33m=\u001b[0m \u001b[0mge_alt\u001b[0m\u001b[1;33m)\u001b[0m\u001b[1;33m\u001b[0m\u001b[1;33m\u001b[0m\u001b[0m\n\u001b[0m\u001b[0;32m     52\u001b[0m                     \u001b[1;32mif\u001b[0m \u001b[0mmax_ge2\u001b[0m \u001b[1;33m>\u001b[0m \u001b[0mmax_ge\u001b[0m\u001b[1;33m:\u001b[0m\u001b[1;33m\u001b[0m\u001b[1;33m\u001b[0m\u001b[0m\n\u001b[0;32m     53\u001b[0m                         \u001b[0mmax_ge\u001b[0m\u001b[1;33m,\u001b[0m\u001b[0mbest_alt\u001b[0m \u001b[1;33m=\u001b[0m \u001b[0mmax_ge2\u001b[0m\u001b[1;33m,\u001b[0m\u001b[0maa2\u001b[0m\u001b[1;33m\u001b[0m\u001b[1;33m\u001b[0m\u001b[0m\n",
      "\u001b[1;32mc:\\Users\\vicenteneto\\matrixBreak\\matrixBreak.py\u001b[0m in \u001b[0;36mmatrixBreak\u001b[1;34m(temp_list, matrix, max_ge, best_alt, last_ge)\u001b[0m\n\u001b[0;32m     49\u001b[0m                     \u001b[0mmax_ge\u001b[0m\u001b[1;33m,\u001b[0m\u001b[0mbest_alt\u001b[0m \u001b[1;33m=\u001b[0m \u001b[0mge_alt\u001b[0m\u001b[1;33m,\u001b[0m\u001b[0maa\u001b[0m\u001b[1;33m\u001b[0m\u001b[1;33m\u001b[0m\u001b[0m\n\u001b[0;32m     50\u001b[0m                 \u001b[1;32mif\u001b[0m \u001b[0mge_alt\u001b[0m \u001b[1;33m>\u001b[0m \u001b[0mlast_ge\u001b[0m\u001b[1;33m:\u001b[0m\u001b[1;33m\u001b[0m\u001b[1;33m\u001b[0m\u001b[0m\n\u001b[1;32m---> 51\u001b[1;33m                     \u001b[0mmax_ge2\u001b[0m\u001b[1;33m,\u001b[0m\u001b[0maa2\u001b[0m \u001b[1;33m=\u001b[0m \u001b[0mmatrixBreak\u001b[0m\u001b[1;33m(\u001b[0m\u001b[0maa\u001b[0m\u001b[1;33m,\u001b[0m\u001b[0mmatrix\u001b[0m\u001b[1;33m,\u001b[0m\u001b[0mlast_ge\u001b[0m \u001b[1;33m=\u001b[0m \u001b[0mge_alt\u001b[0m\u001b[1;33m)\u001b[0m\u001b[1;33m\u001b[0m\u001b[1;33m\u001b[0m\u001b[0m\n\u001b[0m\u001b[0;32m     52\u001b[0m                     \u001b[1;32mif\u001b[0m \u001b[0mmax_ge2\u001b[0m \u001b[1;33m>\u001b[0m \u001b[0mmax_ge\u001b[0m\u001b[1;33m:\u001b[0m\u001b[1;33m\u001b[0m\u001b[1;33m\u001b[0m\u001b[0m\n\u001b[0;32m     53\u001b[0m                         \u001b[0mmax_ge\u001b[0m\u001b[1;33m,\u001b[0m\u001b[0mbest_alt\u001b[0m \u001b[1;33m=\u001b[0m \u001b[0mmax_ge2\u001b[0m\u001b[1;33m,\u001b[0m\u001b[0maa2\u001b[0m\u001b[1;33m\u001b[0m\u001b[1;33m\u001b[0m\u001b[0m\n",
      "\u001b[1;32mc:\\Users\\vicenteneto\\matrixBreak\\matrixBreak.py\u001b[0m in \u001b[0;36mmatrixBreak\u001b[1;34m(temp_list, matrix, max_ge, best_alt, last_ge)\u001b[0m\n\u001b[0;32m     49\u001b[0m                     \u001b[0mmax_ge\u001b[0m\u001b[1;33m,\u001b[0m\u001b[0mbest_alt\u001b[0m \u001b[1;33m=\u001b[0m \u001b[0mge_alt\u001b[0m\u001b[1;33m,\u001b[0m\u001b[0maa\u001b[0m\u001b[1;33m\u001b[0m\u001b[1;33m\u001b[0m\u001b[0m\n\u001b[0;32m     50\u001b[0m                 \u001b[1;32mif\u001b[0m \u001b[0mge_alt\u001b[0m \u001b[1;33m>\u001b[0m \u001b[0mlast_ge\u001b[0m\u001b[1;33m:\u001b[0m\u001b[1;33m\u001b[0m\u001b[1;33m\u001b[0m\u001b[0m\n\u001b[1;32m---> 51\u001b[1;33m                     \u001b[0mmax_ge2\u001b[0m\u001b[1;33m,\u001b[0m\u001b[0maa2\u001b[0m \u001b[1;33m=\u001b[0m \u001b[0mmatrixBreak\u001b[0m\u001b[1;33m(\u001b[0m\u001b[0maa\u001b[0m\u001b[1;33m,\u001b[0m\u001b[0mmatrix\u001b[0m\u001b[1;33m,\u001b[0m\u001b[0mlast_ge\u001b[0m \u001b[1;33m=\u001b[0m \u001b[0mge_alt\u001b[0m\u001b[1;33m)\u001b[0m\u001b[1;33m\u001b[0m\u001b[1;33m\u001b[0m\u001b[0m\n\u001b[0m\u001b[0;32m     52\u001b[0m                     \u001b[1;32mif\u001b[0m \u001b[0mmax_ge2\u001b[0m \u001b[1;33m>\u001b[0m \u001b[0mmax_ge\u001b[0m\u001b[1;33m:\u001b[0m\u001b[1;33m\u001b[0m\u001b[1;33m\u001b[0m\u001b[0m\n\u001b[0;32m     53\u001b[0m                         \u001b[0mmax_ge\u001b[0m\u001b[1;33m,\u001b[0m\u001b[0mbest_alt\u001b[0m \u001b[1;33m=\u001b[0m \u001b[0mmax_ge2\u001b[0m\u001b[1;33m,\u001b[0m\u001b[0maa2\u001b[0m\u001b[1;33m\u001b[0m\u001b[1;33m\u001b[0m\u001b[0m\n",
      "\u001b[1;32mc:\\Users\\vicenteneto\\matrixBreak\\matrixBreak.py\u001b[0m in \u001b[0;36mmatrixBreak\u001b[1;34m(temp_list, matrix, max_ge, best_alt, last_ge)\u001b[0m\n\u001b[0;32m     49\u001b[0m                     \u001b[0mmax_ge\u001b[0m\u001b[1;33m,\u001b[0m\u001b[0mbest_alt\u001b[0m \u001b[1;33m=\u001b[0m \u001b[0mge_alt\u001b[0m\u001b[1;33m,\u001b[0m\u001b[0maa\u001b[0m\u001b[1;33m\u001b[0m\u001b[1;33m\u001b[0m\u001b[0m\n\u001b[0;32m     50\u001b[0m                 \u001b[1;32mif\u001b[0m \u001b[0mge_alt\u001b[0m \u001b[1;33m>\u001b[0m \u001b[0mlast_ge\u001b[0m\u001b[1;33m:\u001b[0m\u001b[1;33m\u001b[0m\u001b[1;33m\u001b[0m\u001b[0m\n\u001b[1;32m---> 51\u001b[1;33m                     \u001b[0mmax_ge2\u001b[0m\u001b[1;33m,\u001b[0m\u001b[0maa2\u001b[0m \u001b[1;33m=\u001b[0m \u001b[0mmatrixBreak\u001b[0m\u001b[1;33m(\u001b[0m\u001b[0maa\u001b[0m\u001b[1;33m,\u001b[0m\u001b[0mmatrix\u001b[0m\u001b[1;33m,\u001b[0m\u001b[0mlast_ge\u001b[0m \u001b[1;33m=\u001b[0m \u001b[0mge_alt\u001b[0m\u001b[1;33m)\u001b[0m\u001b[1;33m\u001b[0m\u001b[1;33m\u001b[0m\u001b[0m\n\u001b[0m\u001b[0;32m     52\u001b[0m                     \u001b[1;32mif\u001b[0m \u001b[0mmax_ge2\u001b[0m \u001b[1;33m>\u001b[0m \u001b[0mmax_ge\u001b[0m\u001b[1;33m:\u001b[0m\u001b[1;33m\u001b[0m\u001b[1;33m\u001b[0m\u001b[0m\n\u001b[0;32m     53\u001b[0m                         \u001b[0mmax_ge\u001b[0m\u001b[1;33m,\u001b[0m\u001b[0mbest_alt\u001b[0m \u001b[1;33m=\u001b[0m \u001b[0mmax_ge2\u001b[0m\u001b[1;33m,\u001b[0m\u001b[0maa2\u001b[0m\u001b[1;33m\u001b[0m\u001b[1;33m\u001b[0m\u001b[0m\n",
      "\u001b[1;32mc:\\Users\\vicenteneto\\matrixBreak\\matrixBreak.py\u001b[0m in \u001b[0;36mmatrixBreak\u001b[1;34m(temp_list, matrix, max_ge, best_alt, last_ge)\u001b[0m\n\u001b[0;32m     49\u001b[0m                     \u001b[0mmax_ge\u001b[0m\u001b[1;33m,\u001b[0m\u001b[0mbest_alt\u001b[0m \u001b[1;33m=\u001b[0m \u001b[0mge_alt\u001b[0m\u001b[1;33m,\u001b[0m\u001b[0maa\u001b[0m\u001b[1;33m\u001b[0m\u001b[1;33m\u001b[0m\u001b[0m\n\u001b[0;32m     50\u001b[0m                 \u001b[1;32mif\u001b[0m \u001b[0mge_alt\u001b[0m \u001b[1;33m>\u001b[0m \u001b[0mlast_ge\u001b[0m\u001b[1;33m:\u001b[0m\u001b[1;33m\u001b[0m\u001b[1;33m\u001b[0m\u001b[0m\n\u001b[1;32m---> 51\u001b[1;33m                     \u001b[0mmax_ge2\u001b[0m\u001b[1;33m,\u001b[0m\u001b[0maa2\u001b[0m \u001b[1;33m=\u001b[0m \u001b[0mmatrixBreak\u001b[0m\u001b[1;33m(\u001b[0m\u001b[0maa\u001b[0m\u001b[1;33m,\u001b[0m\u001b[0mmatrix\u001b[0m\u001b[1;33m,\u001b[0m\u001b[0mlast_ge\u001b[0m \u001b[1;33m=\u001b[0m \u001b[0mge_alt\u001b[0m\u001b[1;33m)\u001b[0m\u001b[1;33m\u001b[0m\u001b[1;33m\u001b[0m\u001b[0m\n\u001b[0m\u001b[0;32m     52\u001b[0m                     \u001b[1;32mif\u001b[0m \u001b[0mmax_ge2\u001b[0m \u001b[1;33m>\u001b[0m \u001b[0mmax_ge\u001b[0m\u001b[1;33m:\u001b[0m\u001b[1;33m\u001b[0m\u001b[1;33m\u001b[0m\u001b[0m\n\u001b[0;32m     53\u001b[0m                         \u001b[0mmax_ge\u001b[0m\u001b[1;33m,\u001b[0m\u001b[0mbest_alt\u001b[0m \u001b[1;33m=\u001b[0m \u001b[0mmax_ge2\u001b[0m\u001b[1;33m,\u001b[0m\u001b[0maa2\u001b[0m\u001b[1;33m\u001b[0m\u001b[1;33m\u001b[0m\u001b[0m\n",
      "\u001b[1;32mc:\\Users\\vicenteneto\\matrixBreak\\matrixBreak.py\u001b[0m in \u001b[0;36mmatrixBreak\u001b[1;34m(temp_list, matrix, max_ge, best_alt, last_ge)\u001b[0m\n\u001b[0;32m     49\u001b[0m                     \u001b[0mmax_ge\u001b[0m\u001b[1;33m,\u001b[0m\u001b[0mbest_alt\u001b[0m \u001b[1;33m=\u001b[0m \u001b[0mge_alt\u001b[0m\u001b[1;33m,\u001b[0m\u001b[0maa\u001b[0m\u001b[1;33m\u001b[0m\u001b[1;33m\u001b[0m\u001b[0m\n\u001b[0;32m     50\u001b[0m                 \u001b[1;32mif\u001b[0m \u001b[0mge_alt\u001b[0m \u001b[1;33m>\u001b[0m \u001b[0mlast_ge\u001b[0m\u001b[1;33m:\u001b[0m\u001b[1;33m\u001b[0m\u001b[1;33m\u001b[0m\u001b[0m\n\u001b[1;32m---> 51\u001b[1;33m                     \u001b[0mmax_ge2\u001b[0m\u001b[1;33m,\u001b[0m\u001b[0maa2\u001b[0m \u001b[1;33m=\u001b[0m \u001b[0mmatrixBreak\u001b[0m\u001b[1;33m(\u001b[0m\u001b[0maa\u001b[0m\u001b[1;33m,\u001b[0m\u001b[0mmatrix\u001b[0m\u001b[1;33m,\u001b[0m\u001b[0mlast_ge\u001b[0m \u001b[1;33m=\u001b[0m \u001b[0mge_alt\u001b[0m\u001b[1;33m)\u001b[0m\u001b[1;33m\u001b[0m\u001b[1;33m\u001b[0m\u001b[0m\n\u001b[0m\u001b[0;32m     52\u001b[0m                     \u001b[1;32mif\u001b[0m \u001b[0mmax_ge2\u001b[0m \u001b[1;33m>\u001b[0m \u001b[0mmax_ge\u001b[0m\u001b[1;33m:\u001b[0m\u001b[1;33m\u001b[0m\u001b[1;33m\u001b[0m\u001b[0m\n\u001b[0;32m     53\u001b[0m                         \u001b[0mmax_ge\u001b[0m\u001b[1;33m,\u001b[0m\u001b[0mbest_alt\u001b[0m \u001b[1;33m=\u001b[0m \u001b[0mmax_ge2\u001b[0m\u001b[1;33m,\u001b[0m\u001b[0maa2\u001b[0m\u001b[1;33m\u001b[0m\u001b[1;33m\u001b[0m\u001b[0m\n",
      "\u001b[1;32mc:\\Users\\vicenteneto\\matrixBreak\\matrixBreak.py\u001b[0m in \u001b[0;36mmatrixBreak\u001b[1;34m(temp_list, matrix, max_ge, best_alt, last_ge)\u001b[0m\n\u001b[0;32m     45\u001b[0m                 \u001b[0maa\u001b[0m \u001b[1;33m=\u001b[0m\u001b[0mswap_alt\u001b[0m\u001b[1;33m(\u001b[0m\u001b[0mtemp_list_copy\u001b[0m\u001b[1;33m,\u001b[0m\u001b[0mlist_to_alt\u001b[0m\u001b[1;33m(\u001b[0m\u001b[0mm_\u001b[0m\u001b[1;33m,\u001b[0m\u001b[0malt\u001b[0m\u001b[1;33m)\u001b[0m\u001b[1;33m,\u001b[0m\u001b[0mp\u001b[0m\u001b[1;33m)\u001b[0m\u001b[1;33m\u001b[0m\u001b[1;33m\u001b[0m\u001b[0m\n\u001b[0;32m     46\u001b[0m                 \u001b[1;31m#ge_alt = 10\u001b[0m\u001b[1;33m\u001b[0m\u001b[1;33m\u001b[0m\u001b[1;33m\u001b[0m\u001b[0m\n\u001b[1;32m---> 47\u001b[1;33m                 \u001b[0mge_alt\u001b[0m \u001b[1;33m=\u001b[0m \u001b[0mge\u001b[0m\u001b[1;33m(\u001b[0m\u001b[0mmatrix\u001b[0m\u001b[1;33m,\u001b[0m\u001b[0maa\u001b[0m\u001b[1;33m)\u001b[0m\u001b[1;33m\u001b[0m\u001b[1;33m\u001b[0m\u001b[0m\n\u001b[0m\u001b[0;32m     48\u001b[0m                 \u001b[1;32mif\u001b[0m \u001b[0mge_alt\u001b[0m\u001b[1;33m>\u001b[0m\u001b[0mmax_ge\u001b[0m\u001b[1;33m:\u001b[0m\u001b[1;33m\u001b[0m\u001b[1;33m\u001b[0m\u001b[0m\n\u001b[0;32m     49\u001b[0m                     \u001b[0mmax_ge\u001b[0m\u001b[1;33m,\u001b[0m\u001b[0mbest_alt\u001b[0m \u001b[1;33m=\u001b[0m \u001b[0mge_alt\u001b[0m\u001b[1;33m,\u001b[0m\u001b[0maa\u001b[0m\u001b[1;33m\u001b[0m\u001b[1;33m\u001b[0m\u001b[0m\n",
      "\u001b[1;32mc:\\Users\\vicenteneto\\matrixBreak\\matrixBreak.py\u001b[0m in \u001b[0;36mge\u001b[1;34m(mi, list_of_blocks)\u001b[0m\n\u001b[0;32m     11\u001b[0m         \u001b[0mmrxnr\u001b[0m \u001b[1;33m+=\u001b[0m \u001b[0mblock\u001b[0m\u001b[1;33m.\u001b[0m\u001b[0msize\u001b[0m\u001b[1;33m\u001b[0m\u001b[1;33m\u001b[0m\u001b[0m\n\u001b[0;32m     12\u001b[0m     \u001b[0mnee\u001b[0m \u001b[1;33m-=\u001b[0m\u001b[0mn1\u001b[0m\u001b[1;33m\u001b[0m\u001b[1;33m\u001b[0m\u001b[0m\n\u001b[1;32m---> 13\u001b[1;33m     \u001b[0mpee\u001b[0m \u001b[1;33m=\u001b[0m \u001b[0mnee\u001b[0m\u001b[1;33m/\u001b[0m\u001b[0mnp\u001b[0m\u001b[1;33m.\u001b[0m\u001b[0msum\u001b[0m\u001b[1;33m(\u001b[0m\u001b[0mmi\u001b[0m\u001b[1;33m)\u001b[0m\u001b[1;33m\u001b[0m\u001b[1;33m\u001b[0m\u001b[0m\n\u001b[0m\u001b[0;32m     14\u001b[0m     \u001b[1;31m#ex = pee\u001b[0m\u001b[1;33m\u001b[0m\u001b[1;33m\u001b[0m\u001b[1;33m\u001b[0m\u001b[0m\n\u001b[0;32m     15\u001b[0m     \u001b[0mes\u001b[0m \u001b[1;33m=\u001b[0m \u001b[0mn1\u001b[0m\u001b[1;33m/\u001b[0m\u001b[0mmrxnr\u001b[0m\u001b[1;33m\u001b[0m\u001b[1;33m\u001b[0m\u001b[0m\n",
      "\u001b[1;32m<__array_function__ internals>\u001b[0m in \u001b[0;36msum\u001b[1;34m(*args, **kwargs)\u001b[0m\n",
      "\u001b[1;32m~\\AppData\\Local\\Continuum\\anaconda3\\lib\\site-packages\\numpy\\core\\fromnumeric.py\u001b[0m in \u001b[0;36msum\u001b[1;34m(a, axis, dtype, out, keepdims, initial, where)\u001b[0m\n\u001b[0;32m   2227\u001b[0m \u001b[1;33m\u001b[0m\u001b[0m\n\u001b[0;32m   2228\u001b[0m     return _wrapreduction(a, np.add, 'sum', axis, dtype, out, keepdims=keepdims,\n\u001b[1;32m-> 2229\u001b[1;33m                           initial=initial, where=where)\n\u001b[0m\u001b[0;32m   2230\u001b[0m \u001b[1;33m\u001b[0m\u001b[0m\n\u001b[0;32m   2231\u001b[0m \u001b[1;33m\u001b[0m\u001b[0m\n",
      "\u001b[1;32m~\\AppData\\Local\\Continuum\\anaconda3\\lib\\site-packages\\numpy\\core\\fromnumeric.py\u001b[0m in \u001b[0;36m_wrapreduction\u001b[1;34m(obj, ufunc, method, axis, dtype, out, **kwargs)\u001b[0m\n\u001b[0;32m     88\u001b[0m                 \u001b[1;32mreturn\u001b[0m \u001b[0mreduction\u001b[0m\u001b[1;33m(\u001b[0m\u001b[0maxis\u001b[0m\u001b[1;33m=\u001b[0m\u001b[0maxis\u001b[0m\u001b[1;33m,\u001b[0m \u001b[0mout\u001b[0m\u001b[1;33m=\u001b[0m\u001b[0mout\u001b[0m\u001b[1;33m,\u001b[0m \u001b[1;33m**\u001b[0m\u001b[0mpasskwargs\u001b[0m\u001b[1;33m)\u001b[0m\u001b[1;33m\u001b[0m\u001b[1;33m\u001b[0m\u001b[0m\n\u001b[0;32m     89\u001b[0m \u001b[1;33m\u001b[0m\u001b[0m\n\u001b[1;32m---> 90\u001b[1;33m     \u001b[1;32mreturn\u001b[0m \u001b[0mufunc\u001b[0m\u001b[1;33m.\u001b[0m\u001b[0mreduce\u001b[0m\u001b[1;33m(\u001b[0m\u001b[0mobj\u001b[0m\u001b[1;33m,\u001b[0m \u001b[0maxis\u001b[0m\u001b[1;33m,\u001b[0m \u001b[0mdtype\u001b[0m\u001b[1;33m,\u001b[0m \u001b[0mout\u001b[0m\u001b[1;33m,\u001b[0m \u001b[1;33m**\u001b[0m\u001b[0mpasskwargs\u001b[0m\u001b[1;33m)\u001b[0m\u001b[1;33m\u001b[0m\u001b[1;33m\u001b[0m\u001b[0m\n\u001b[0m\u001b[0;32m     91\u001b[0m \u001b[1;33m\u001b[0m\u001b[0m\n\u001b[0;32m     92\u001b[0m \u001b[1;33m\u001b[0m\u001b[0m\n",
      "\u001b[1;31mKeyboardInterrupt\u001b[0m: "
     ]
    }
   ],
   "source": [
    "import time\n",
    "\n",
    "\n",
    "def reject_outliers(data, m=2):\n",
    "    return data[abs(data - np.mean(data)) < m * np.std(data)]\n",
    "\n",
    "for size in range(50):\n",
    "    tempList = list()\n",
    "    for i in range(50):\n",
    "        matrixTest = np.random.randint(2,size=(size+1,size+1))\n",
    "\n",
    "        start = time.time()\n",
    "        matrixBreak([matrixTest],matrixTest)\n",
    "        end = time.time()\n",
    "\n",
    "        tempList.append(end-start)\n",
    "    \n",
    "    tempValue = np.mean(reject_outliers(np.array(tempList)))\n",
    "    newBenchmarkList['new'][size+1] = tempValue\n",
    "    print(str(size) + ' ' + str(tempValue))\n",
    "        \n"
   ]
  },
  {
   "cell_type": "code",
   "execution_count": 4,
   "metadata": {},
   "outputs": [
    {
     "output_type": "stream",
     "name": "stdout",
     "text": [
      "0\n",
      "1\n",
      "2\n",
      "3\n",
      "4\n",
      "5\n",
      "6\n",
      "7\n",
      "8\n",
      "9\n"
     ]
    }
   ],
   "source": [
    "\n",
    "startI = 50\n",
    "for size in range(10):\n",
    "    tempList = list()\n",
    "\n",
    "    if size > 4: \n",
    "        startI = 5\n",
    "    if size > 6:\n",
    "        startI = 1 \n",
    "\n",
    "    for i in range(startI):\n",
    "        matrixTest = np.random.randint(2,size=(size+1,size+1))\n",
    "\n",
    "        start = time.time()\n",
    "        oldMatrixBreak([matrixTest],matrixTest)\n",
    "        end = time.time()\n",
    "\n",
    "        tempList.append(end-start)\n",
    "    \n",
    "    newBenchmarkList['old'][size+1] = np.mean(tempList)\n",
    "    print(size)\n",
    "        "
   ]
  },
  {
   "cell_type": "code",
   "execution_count": 9,
   "metadata": {},
   "outputs": [],
   "source": [
    "import json\n",
    "\n",
    "with open('data.json', 'w') as fp:\n",
    "    json.dump(newBenchmarkList, fp)"
   ]
  },
  {
   "cell_type": "code",
   "execution_count": null,
   "metadata": {},
   "outputs": [],
   "source": [
    "errorCount = 0\n",
    "\n",
    "for size in range(10):\n",
    "\n",
    "    for i in range(1):\n",
    "        np.random.seed(i)\n",
    "        matrixTest = np.random.randint(2,size=(size+1,size+1))\n",
    "        status = oldMatrixBreak([matrixTest],matrixTest)[0] == matrixBreak([matrixTest],matrixTest)[0]\n",
    "        if status == False:\n",
    "            errorCount+=1\n",
    "        \n",
    "    print(errorCount)\n"
   ]
  },
  {
   "cell_type": "code",
   "execution_count": 6,
   "metadata": {},
   "outputs": [
    {
     "output_type": "execute_result",
     "data": {
      "text/plain": [
       "{'old': {1: 0.0,\n",
       "  2: 3.990650177001953e-05,\n",
       "  3: 0.0001197052001953125,\n",
       "  4: 0.0008975934982299805,\n",
       "  5: 0.004089899063110351,\n",
       "  6: 0.032105302810668944,\n",
       "  7: 0.27785634994506836,\n",
       "  8: 2.8553924560546875,\n",
       "  9: 33.30487251281738,\n",
       "  10: 455.1082932949066},\n",
       " 'new': {1: nan,\n",
       "  2: 0.0,\n",
       "  3: 0.0,\n",
       "  4: 9.45727030436198e-05,\n",
       "  5: 0.0018177223205566406,\n",
       "  6: 0.005770016689689792,\n",
       "  7: 0.01412778712333517,\n",
       "  8: 0.03971845408280691,\n",
       "  9: 0.10161903003851573,\n",
       "  10: 0.1332983815151712,\n",
       "  11: 0.26520590484142303,\n",
       "  12: 0.6567338730426545,\n",
       "  13: 0.5693138508086509,\n",
       "  14: 0.8569698184728622,\n",
       "  15: 1.0724485119183857,\n",
       "  16: 1.527906067517339,\n",
       "  17: 1.8423142929871876,\n",
       "  18: 3.106769253810247,\n",
       "  19: 2.780359034842633,\n",
       "  20: 2.847121014886973}}"
      ]
     },
     "metadata": {},
     "execution_count": 6
    }
   ],
   "source": [
    "newBenchmarkList"
   ]
  },
  {
   "cell_type": "code",
   "execution_count": 116,
   "metadata": {},
   "outputs": [
    {
     "output_type": "execute_result",
     "data": {
      "text/plain": [
       "[1, 1, 1, 1, 1, 1, 1, 1, 11, 1, 1, 1, 1, 0, 0, 0, 0, 0, 0, 0]"
      ]
     },
     "metadata": {},
     "execution_count": 116
    }
   ],
   "source": [
    "def reject_outliers(data, m=2):\n",
    "    return data[abs(data - np.mean(data)) < m * np.std(data)]\n",
    "     \n",
    "lista = [1,1,1,1,1,1,1,1,11,1,1,1,1,0,0,0,0,0,0,0,400000]\n",
    "list(reject_outliers(np.array(lista)))"
   ]
  },
  {
   "cell_type": "code",
   "execution_count": 109,
   "metadata": {},
   "outputs": [
    {
     "output_type": "execute_result",
     "data": {
      "text/plain": [
       "1.2"
      ]
     },
     "metadata": {},
     "execution_count": 109
    }
   ],
   "source": [
    "abs(-1.2)"
   ]
  },
  {
   "cell_type": "code",
   "execution_count": null,
   "metadata": {},
   "outputs": [],
   "source": []
  }
 ]
}